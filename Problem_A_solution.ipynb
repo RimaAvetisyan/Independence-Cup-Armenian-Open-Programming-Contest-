{
 "cells": [
  {
   "cell_type": "markdown",
   "id": "0ab527e0-5e1b-42e8-9f71-64e48db4186a",
   "metadata": {},
   "source": [
    "### Problem A\n",
    "Armenian mobile numbers"
   ]
  },
  {
   "cell_type": "markdown",
   "id": "d2c9127c-5a47-4378-8f66-f39534cb66ea",
   "metadata": {},
   "source": [
    " You are given a string representing a mobile\n",
    " phone number in Armenia of the format 0xx-dd-dd-dd,\n",
    " where xx is the mobile operator code, and d is any\n",
    " digit from 0 to 9.\n",
    " Your task is to check if the given number is\n",
    " valid and identify the mobile operator based on the\n",
    " operator code. If the number is valid, output the\n",
    " name of the mobile operator. If the number is\n",
    " invalid, print \"Incorrect Number\".\n",
    " The valid mobile operator codes are:\n",
    " \n",
    " • Team: 91, 99, 96, 43, 33, 97\n",
    " \n",
    " • Ucom: 55, 95, 41, 44, 66, 50\n",
    " \n",
    " • Viva-MTS: 93, 94, 77, 98\n",
    " \n",
    " \n",
    " Input\n",
    " \n",
    " The only line of the input contains a string in the format\n",
    " 0xx-dd-dd-dd.\n",
    " \n",
    " Output\n",
    " \n",
    " The output must contain either the name of the mobile operator (Team,\n",
    " Ucom, Viva-MTS) or the phrase \"Incorrect Number\" if the number is invalid"
   ]
  },
  {
   "cell_type": "code",
   "execution_count": null,
   "id": "bc4cf972-304f-469a-b816-189326eb1295",
   "metadata": {},
   "outputs": [],
   "source": [
    "'''\n",
    "Explanation:\n",
    "Function Definition: The check_mobile_operator function is designed to take a phone number and determine which operator it belongs to, or if the number is incorrect.\n",
    "Operator Codes: Lists of valid operator codes .\n",
    "for Team, Ucom, and Viva-MTS are defined at the start.\n",
    "Format Checking: The function first checks if the phone number has the correct format 0xx-dd-dd-dd by verifying the length of the string and the placement of the hyphens (-).\n",
    "Digit Validation: It then ensures that the sections after the hyphens contain only digits.\n",
    "Operator Validation: Depending on the first two digits (the operator code), the function checks against the predefined lists of valid codes for each operator and returns the corresponding operator name.\n",
    "Return Value: If the operator code is valid, the corresponding name is returned; otherwise, the function returns \"Incorrect Number\". \n",
    "'''\n",
    "# Function to check the mobile operator based on the given phone number\n",
    "def check_mobile_operator(phone_number):\n",
    "    # Define operator codes for each mobile operator\n",
    "    team_codes = ['91', '99', '96', '43', '33', '97']\n",
    "    ucom_codes = ['55', '95', '41', '44', '66', '50']\n",
    "    viva_mts_codes = ['93', '94', '77', '98']\n",
    "\n",
    "    # Check if the phone number matches the required format: 0xx-dd-dd-dd\n",
    "    # The length of the phone number should be 12 characters\n",
    "    # The first character must be '0'\n",
    "    # The position of the '-' must be correct\n",
    "    if len(phone_number) == 12 and phone_number[0] == '0' and phone_number[3] == '-' and phone_number[6] == '-' and phone_number[9] == '-':\n",
    "        # Extract the operator code (the two digits after '0')\n",
    "        operator_code = phone_number[1:3]\n",
    "        \n",
    "        # Check if all parts after the '-' are digits\n",
    "        # Split the phone number at each '-'\n",
    "        # Ensure each part (i.e., the digits) is valid\n",
    "        if all(part.isdigit() for part in phone_number[4:].split('-')):\n",
    "            # Check the operator codes to determine the correct mobile operator\n",
    "            if operator_code in team_codes:\n",
    "                return \"Team\"  # Return \"Team\" if the operator code matches\n",
    "            elif operator_code in ucom_codes:\n",
    "                return \"Ucom\"  # Return \"Ucom\" if the operator code matches\n",
    "            elif operator_code in viva_mts_codes:\n",
    "                return \"Viva-MTS\"  # Return \"Viva-MTS\" if the operator code matches\n",
    "            else:\n",
    "                return \"Incorrect Number\"  # Return \"Incorrect Number\" if the operator code is not valid\n",
    "        else:\n",
    "            return \"Incorrect Number\"  # Return \"Incorrect Number\" if there are non-digit characters\n",
    "    else:\n",
    "        return \"Incorrect Number\"  # Return \"Incorrect Number\" if the format is not correct\n",
    "\n",
    "# Test the function\n",
    "phone_number = input().strip()  # Take input for phone number (e.g., \"099-12-34-56\")\n",
    "result = check_mobile_operator(phone_number)  # Call the function to check the operator\n",
    "print(result)  # Print the result (e.g., \"Team\", \"Ucom\", \"Viva-MTS\", or \"Incorrect Number\")\n"
   ]
  },
  {
   "cell_type": "code",
   "execution_count": null,
   "id": "52e483d2-278c-4ba2-b017-f590201900d8",
   "metadata": {},
   "outputs": [],
   "source": []
  }
 ],
 "metadata": {
  "kernelspec": {
   "display_name": "Python 3 (ipykernel)",
   "language": "python",
   "name": "python3"
  },
  "language_info": {
   "codemirror_mode": {
    "name": "ipython",
    "version": 3
   },
   "file_extension": ".py",
   "mimetype": "text/x-python",
   "name": "python",
   "nbconvert_exporter": "python",
   "pygments_lexer": "ipython3",
   "version": "3.11.5"
  }
 },
 "nbformat": 4,
 "nbformat_minor": 5
}
