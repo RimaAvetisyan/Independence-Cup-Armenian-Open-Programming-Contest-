{
 "cells": [
  {
   "cell_type": "markdown",
   "id": "dfd78a4b",
   "metadata": {},
   "source": [
    "\n",
    "# Problem B: Count Independence Days\n",
    "\n",
    "### Problem Description\n",
    "You are given a date between 21st September 1991 and 20th October 2024. Your task is to count the number of days from 21st September 1991 (Armenian Independence Day) to the given date, inclusive of both dates.\n",
    "\n",
    "#### Input\n",
    "The input is a single line containing a date in the format `DD Month YYYY` (e.g., `22 September 1991`).\n",
    "\n",
    "#### Output\n",
    "The output should contain the number of days from 21st September 1991 to the given date.\n",
    "\n",
    "#### Example\n",
    "- Input: `22 September 1991` → Output: `2`\n",
    "- Input: `21 September 1992` → Output: `367`\n",
    "- Input: `10 October 1991` → Output: `20`\n",
    "\n",
    "---\n",
    "\n",
    "    "
   ]
  },
  {
   "cell_type": "code",
   "execution_count": null,
   "id": "3389ecd4",
   "metadata": {},
   "outputs": [],
   "source": [
    "\n",
    "from datetime import datetime\n",
    "\n",
    "# Define the date of Armenian Independence Day\n",
    "independence_day = datetime(1991, 9, 21)\n",
    "\n",
    "def count_independence_days(input_date):\n",
    "    \"\"\"\n",
    "    Counts the number of days from 21st September 1991 to the given date.\n",
    "\n",
    "    Parameters:\n",
    "    input_date (str): The target date in format 'DD Month YYYY'\n",
    "\n",
    "    Returns:\n",
    "    int: Number of days from Independence Day to the target date (inclusive)\n",
    "    \"\"\"\n",
    "    # Parse the input date in the given format\n",
    "    target_date = datetime.strptime(input_date, \"%d %B %Y\")\n",
    "    \n",
    "    # Calculate the difference in days and include both dates\n",
    "    days_difference = (target_date - independence_day).days + 1\n",
    "    \n",
    "    return days_difference\n",
    "\n",
    "# Example usage\n",
    "print(count_independence_days(\"22 September 1991\"))  # Expected output: 2\n",
    "print(count_independence_days(\"21 September 1992\"))  # Expected output: 367\n",
    "print(count_independence_days(\"10 October 1991\"))    # Expected output: 20\n",
    "    "
   ]
  },
  {
   "cell_type": "markdown",
   "id": "cb98eb99",
   "metadata": {},
   "source": [
    "\n",
    "### Explanation of the Code\n",
    "1. **Date Parsing**: The function takes the input date in the specified format and converts it into a `datetime` object.\n",
    "2. **Days Calculation**: It calculates the difference in days between the target date and Independence Day, adding 1 to include both dates.\n",
    "\n",
    "---\n",
    "    "
   ]
  }
 ],
 "metadata": {
  "kernelspec": {
   "display_name": "Python 3 (ipykernel)",
   "language": "python",
   "name": "python3"
  },
  "language_info": {
   "codemirror_mode": {
    "name": "ipython",
    "version": 3
   },
   "file_extension": ".py",
   "mimetype": "text/x-python",
   "name": "python",
   "nbconvert_exporter": "python",
   "pygments_lexer": "ipython3",
   "version": "3.11.5"
  }
 },
 "nbformat": 4,
 "nbformat_minor": 5
}
